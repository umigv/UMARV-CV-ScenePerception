{
 "cells": [
  {
   "cell_type": "code",
   "execution_count": 4,
   "metadata": {},
   "outputs": [],
   "source": [
    "from ultralytics import YOLO\n",
    "from matplotlib import pyplot as plt\n",
    "import torch"
   ]
  },
  {
   "cell_type": "code",
   "execution_count": 2,
   "metadata": {},
   "outputs": [],
   "source": [
    "model = YOLO(\"src/best_01_26.pt\")"
   ]
  },
  {
   "cell_type": "code",
   "execution_count": 3,
   "metadata": {},
   "outputs": [
    {
     "name": "stdout",
     "output_type": "stream",
     "text": [
      "\n",
      "image 1/1 c:\\Users\\prana\\OneDrive\\Desktop\\Work\\ARV\\UMARV-CV-ScenePerception\\models\\model_32offjns\\test_image.jpg: 384x640 3 Laness, 1662.8ms\n",
      "Speed: 156.5ms preprocess, 1662.8ms inference, 70.1ms postprocess per image at shape (1, 3, 384, 640)\n"
     ]
    }
   ],
   "source": [
    "results = model('./test_image.jpg')"
   ]
  },
  {
   "cell_type": "markdown",
   "metadata": {},
   "source": [
    "Masks"
   ]
  },
  {
   "cell_type": "code",
   "execution_count": null,
   "metadata": {},
   "outputs": [
    {
     "name": "stdout",
     "output_type": "stream",
     "text": [
      "[[False False False ... False False False]\n",
      " [False False False ... False False False]\n",
      " [False False False ... False False False]\n",
      " ...\n",
      " [False False False ... False False False]\n",
      " [False False False ... False False False]\n",
      " [False False False ... False False False]]\n"
     ]
    },
    {
     "data": {
      "image/png": "[encoded data removed]",
      "text/plain": [
       "<Figure size 640x480 with 1 Axes>"
      ]
     },
     "metadata": {},
     "output_type": "display_data"
    }
   ],
   "source": [
    "# Extract the detected masks as NumPy arrays\n",
    "masks = results[0].masks.data  # Access mask tensors\n",
    "\n",
    "# Sum the masks and normalize by dividing by the number of masks\n",
    "combined_mask = torch.sum(masks, dim=0) > 0\n",
    "\n",
    "# Convert to numpy for visualization\n",
    "combined_mask_np = combined_mask.cpu().numpy().astype(int)\n",
    "\n",
    "# Visualize the result\n",
    "plt.imshow(combined_mask_np, cmap='gray')\n",
    "plt.title(\"Combined Mask (Normalized Sum)\")\n",
    "plt.axis(\"off\")\n",
    "plt.show()\n",
    "# # Iterate over the masks and visualize them\n",
    "# for i, mask_tensor in enumerate(masks):\n",
    "#     # Convert the tensor to a NumPy array\n",
    "#     mask = mask_tensor.cpu().numpy()\n",
    "#     plt.imshow(mask, cmap='gray')\n",
    "#     plt.title(f\"Mask for Object {i + 1}\")\n",
    "#     plt.axis(\"off\")\n",
    "#     plt.show()"
   ]
  },
  {
   "cell_type": "code",
   "execution_count": 9,
   "metadata": {},
   "outputs": [
    {
     "data": {
      "text/plain": [
       "ultralytics.engine.results.Boxes object with attributes:\n",
       "\n",
       "cls: tensor([0., 0., 0.])\n",
       "conf: tensor([0.9557, 0.8908, 0.6455])\n",
       "data: tensor([[4.0200e+00, 4.0008e+00, 6.0794e+02, 5.3546e+02, 9.5570e-01, 0.0000e+00],\n",
       "        [1.1929e+03, 0.0000e+00, 1.9200e+03, 5.2604e+02, 8.9076e-01, 0.0000e+00],\n",
       "        [8.8686e+02, 0.0000e+00, 1.9183e+03, 5.2030e+02, 6.4552e-01, 0.0000e+00]])\n",
       "id: None\n",
       "is_track: False\n",
       "orig_shape: (1080, 1920)\n",
       "shape: torch.Size([3, 6])\n",
       "xywh: tensor([[ 305.9799,  269.7306,  603.9197,  531.4597],\n",
       "        [1556.4452,  263.0210,  727.1096,  526.0419],\n",
       "        [1402.5732,  260.1520, 1031.4221,  520.3041]])\n",
       "xywhn: tensor([[0.1594, 0.2498, 0.3145, 0.4921],\n",
       "        [0.8106, 0.2435, 0.3787, 0.4871],\n",
       "        [0.7305, 0.2409, 0.5372, 0.4818]])\n",
       "xyxy: tensor([[   4.0200,    4.0008,  607.9398,  535.4604],\n",
       "        [1192.8904,    0.0000, 1920.0000,  526.0419],\n",
       "        [ 886.8622,    0.0000, 1918.2843,  520.3041]])\n",
       "xyxyn: tensor([[0.0021, 0.0037, 0.3166, 0.4958],\n",
       "        [0.6213, 0.0000, 1.0000, 0.4871],\n",
       "        [0.4619, 0.0000, 0.9991, 0.4818]])"
      ]
     },
     "execution_count": 9,
     "metadata": {},
     "output_type": "execute_result"
    }
   ],
   "source": [
    "results[0].boxes"
   ]
  }
 ],
 "metadata": {
  "kernelspec": {
   "display_name": "sslenv",
   "language": "python",
   "name": "python3"
  },
  "language_info": {
   "codemirror_mode": {
    "name": "ipython",
    "version": 3
   },
   "file_extension": ".py",
   "mimetype": "text/x-python",
   "name": "python",
   "nbconvert_exporter": "python",
   "pygments_lexer": "ipython3",
   "version": "3.9.5"
  }
 },
 "nbformat": 4,
 "nbformat_minor": 2
}
